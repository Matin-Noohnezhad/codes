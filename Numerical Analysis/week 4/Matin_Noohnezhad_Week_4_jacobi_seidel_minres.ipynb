{
 "cells": [
  {
   "cell_type": "markdown",
   "metadata": {},
   "source": [
    "# Simple iteration for systems of linear equations"
   ]
  },
  {
   "cell_type": "markdown",
   "metadata": {},
   "source": [
    "First, generate a random diagonally dominant matrix, for testing."
   ]
  },
  {
   "cell_type": "code",
   "execution_count": 1,
   "metadata": {},
   "outputs": [],
   "source": [
    "import numpy as np\n",
    "rndm = np.random.RandomState(1234)\n",
    "\n",
    "n = 10\n",
    "A = rndm.uniform(size=(n, n)) + np.diagflat([15]*n)\n",
    "b = rndm.uniform(size=n)"
   ]
  },
  {
   "cell_type": "markdown",
   "metadata": {},
   "source": [
    "# I.  Jacobi iteration\n",
    "\n",
    "Given\n",
    "\n",
    "$$\n",
    "A x = b\n",
    "$$\n",
    "\n",
    "separate the diagonal part $D$,\n",
    "\n",
    "$$ A = D + (A - D) $$\n",
    "\n",
    "and write\n",
    "\n",
    "$$\n",
    "x = D^{-1} (D - A) x + D^{-1} b\\;.\n",
    "$$\n",
    "\n",
    "Then iterate\n",
    "\n",
    "$$\n",
    "x_{n + 1} = B x_{n} + c\\;,\n",
    "$$\n",
    "\n",
    "where \n",
    "\n",
    "$$\n",
    "B = D^{-1} (D - A) \\qquad \\text{and} \\qquad c = D^{-1} b\n",
    "$$\n"
   ]
  },
  {
   "cell_type": "markdown",
   "metadata": {},
   "source": [
    "Let's construct the matrix and the r.h.s. for the Jacobi iteration"
   ]
  },
  {
   "cell_type": "code",
   "execution_count": 2,
   "metadata": {},
   "outputs": [],
   "source": [
    "diag_1d = np.diag(A)\n",
    "\n",
    "B = -A.copy()\n",
    "np.fill_diagonal(B, 0)\n",
    "\n",
    "D = np.diag(diag_1d)\n",
    "invD = np.diag(1./diag_1d)\n",
    "BB = invD @ B \n",
    "c = invD @ b"
   ]
  },
  {
   "cell_type": "code",
   "execution_count": 3,
   "metadata": {},
   "outputs": [],
   "source": [
    "# sanity checks\n",
    "from numpy.testing import assert_allclose\n",
    "\n",
    "assert_allclose(-B + D, A)\n",
    "\n",
    "\n",
    "# xx is a \"ground truth\" solution, compute it using a direct method\n",
    "xx = np.linalg.solve(A, b)\n",
    "\n",
    "np.testing.assert_allclose(A@xx, b)\n",
    "np.testing.assert_allclose(D@xx, B@xx + b)\n",
    "np.testing.assert_allclose(xx, BB@xx + c)"
   ]
  },
  {
   "cell_type": "markdown",
   "metadata": {},
   "source": [
    "Check that $\\| B\\| \\leqslant 1$:"
   ]
  },
  {
   "cell_type": "code",
   "execution_count": 4,
   "metadata": {},
   "outputs": [
    {
     "data": {
      "text/plain": [
       "0.36436161983015336"
      ]
     },
     "execution_count": 4,
     "metadata": {},
     "output_type": "execute_result"
    }
   ],
   "source": [
    "np.linalg.norm(BB)"
   ]
  },
  {
   "cell_type": "markdown",
   "metadata": {},
   "source": [
    "### Do the Jacobi iteration"
   ]
  },
  {
   "cell_type": "code",
   "execution_count": 5,
   "metadata": {},
   "outputs": [],
   "source": [
    "n_iter = 50\n",
    "\n",
    "x0 = np.ones(n)\n",
    "x = x0\n",
    "for _ in range(n_iter):\n",
    "    x = BB @ x + c"
   ]
  },
  {
   "cell_type": "code",
   "execution_count": 6,
   "metadata": {},
   "outputs": [
    {
     "data": {
      "text/plain": [
       "array([ 1.11022302e-16,  0.00000000e+00, -2.22044605e-16, -1.11022302e-16,\n",
       "        1.11022302e-16,  0.00000000e+00, -2.08166817e-17,  0.00000000e+00,\n",
       "       -2.77555756e-17,  1.11022302e-16])"
      ]
     },
     "execution_count": 6,
     "metadata": {},
     "output_type": "execute_result"
    }
   ],
   "source": [
    "# Check the result:\n",
    "\n",
    "A @ x - b"
   ]
  },
  {
   "cell_type": "markdown",
   "metadata": {},
   "source": [
    "### Task I.1\n",
    "\n",
    "Collect the proof-of-concept above into a single function implementing the Jacobi iteration. This function should receive the r.h.s. matrix $A$, the l.h.s. vector `b`, and the number of iterations to perform.\n",
    "\n",
    "\n",
    "The matrix $A$ in the illustration above is strongly diagonally dominant, by construction. \n",
    "What happens if the diagonal matrix elements of $A$ are made smaller? Check the convergence of the Jacobi iteration, and check the value of the norm of $B$.\n",
    "\n",
    "(20% of the total grade)\n"
   ]
  },
  {
   "cell_type": "code",
   "execution_count": 7,
   "metadata": {},
   "outputs": [],
   "source": [
    "def jacobi_iteration(A, b, n_of_iter):\n",
    "    #\n",
    "    diag_1d = np.diag(A)\n",
    "\n",
    "    B = -A.copy()\n",
    "    np.fill_diagonal(B, 0)\n",
    "\n",
    "    D = np.diag(diag_1d)\n",
    "    invD = np.diag(1./diag_1d)\n",
    "    BB = invD @ B \n",
    "    c = invD @ b\n",
    "    #\n",
    "    normB = np.linalg.norm(BB)\n",
    "    print(f'The value of norm matrix B is = {normB}')\n",
    "    #\n",
    "    n = A.shape[1]\n",
    "    x0 = np.ones(n)\n",
    "    x = x0\n",
    "    for i in range(n_of_iter):\n",
    "        x = BB @ x + c\n",
    "    AxminusB_Norm = np.linalg.norm(A@x - b)\n",
    "    convg = 'no'\n",
    "    if(AxminusB_Norm < 1e-3):  \n",
    "        convg = 'yes'\n",
    "    print(f'convergence? {convg}' )\n",
    "    \n",
    "    return x, normB, AxminusB_Norm"
   ]
  },
  {
   "cell_type": "code",
   "execution_count": 8,
   "metadata": {},
   "outputs": [
    {
     "name": "stdout",
     "output_type": "stream",
     "text": [
      "with diagonal addition = 0\n",
      "The value of norm matrix B is = 11.66968152533123\n",
      "convergence? no\n",
      "with diagonal addition = 1\n",
      "The value of norm matrix B is = 3.4341680304660547\n",
      "convergence? no\n",
      "with diagonal addition = 2\n",
      "The value of norm matrix B is = 2.500651625856731\n",
      "convergence? no\n",
      "with diagonal addition = 3\n",
      "The value of norm matrix B is = 1.4878523450535812\n",
      "convergence? no\n",
      "with diagonal addition = 4\n",
      "The value of norm matrix B is = 1.2277037937745938\n",
      "convergence? no\n",
      "with diagonal addition = 5\n",
      "The value of norm matrix B is = 1.0312222654332917\n",
      "convergence? no\n",
      "with diagonal addition = 6\n",
      "The value of norm matrix B is = 0.8161762411265823\n",
      "convergence? yes\n",
      "with diagonal addition = 7\n",
      "The value of norm matrix B is = 0.7502055628597474\n",
      "convergence? yes\n",
      "with diagonal addition = 8\n",
      "The value of norm matrix B is = 0.6460172546076037\n",
      "convergence? yes\n",
      "with diagonal addition = 9\n",
      "The value of norm matrix B is = 0.5125806387508098\n",
      "convergence? yes\n",
      "with diagonal addition = 10\n",
      "The value of norm matrix B is = 0.5232098256083947\n",
      "convergence? yes\n",
      "with diagonal addition = 11\n",
      "The value of norm matrix B is = 0.4650232791288093\n",
      "convergence? yes\n",
      "with diagonal addition = 12\n",
      "The value of norm matrix B is = 0.42969750198366186\n",
      "convergence? yes\n",
      "with diagonal addition = 13\n",
      "The value of norm matrix B is = 0.38692991996356185\n",
      "convergence? yes\n",
      "with diagonal addition = 14\n",
      "The value of norm matrix B is = 0.35498107904429843\n",
      "convergence? yes\n"
     ]
    },
    {
     "data": {
      "text/plain": [
       "[Text(0.5, 0, 'diagonal additions'), Text(0, 0.5, 'norm of Ax-b')]"
      ]
     },
     "execution_count": 8,
     "metadata": {},
     "output_type": "execute_result"
    },
    {
     "data": {
      "image/png": "[encoded data removed]",
      "text/plain": [
       "<Figure size 432x288 with 2 Axes>"
      ]
     },
     "metadata": {
      "needs_background": "light"
     },
     "output_type": "display_data"
    }
   ],
   "source": [
    "import matplotlib.pyplot as plt\n",
    "\n",
    "n = 10\n",
    "diagonal_addition = []\n",
    "normBs = []\n",
    "normAxminusBs = []\n",
    "for i in range(n+5):\n",
    "    print(f'with diagonal addition = {i}')\n",
    "    A = rndm.uniform(size=(n, n)) + np.diagflat([i]*n)\n",
    "    b = rndm.uniform(size=n)\n",
    "    x, normB, normAxminusB= jacobi_iteration(A, b, 50)\n",
    "    diagonal_addition.append(i)\n",
    "    normBs.append(normB)\n",
    "    normAxminusBs.append(normAxminusB)\n",
    "_, axs = plt.subplots(1, 2)\n",
    "axs[0].plot(diagonal_addition, normBs)\n",
    "axs[0].set(xlabel='diagonal additions', ylabel='norm of B')\n",
    "axs[1].plot(diagonal_addition, normAxminusBs)\n",
    "axs[1].set(xlabel='diagonal additions', ylabel='norm of Ax-b')"
   ]
  },
  {
   "cell_type": "markdown",
   "metadata": {},
   "source": [
    "# II. Seidel's iteration."
   ]
  },
  {
   "cell_type": "markdown",
   "metadata": {},
   "source": [
    "##### Task II.1\n",
    "\n",
    "Implement the Seidel's iteration. \n",
    "\n",
    "Test it on a random matrix. Study the convergence of iterations, relate to the norm of the iteration matrix.\n",
    "\n",
    "(30% of the total grade)"
   ]
  },
  {
   "cell_type": "code",
   "execution_count": 9,
   "metadata": {},
   "outputs": [],
   "source": [
    "def seidel_iteration(A, b, n_of_iter):\n",
    "    #########################\n",
    "    m = A.shape[0]\n",
    "    n = A.shape[1]\n",
    "    ####\n",
    "    x0 = np.ones(n)\n",
    "    x = x0\n",
    "    #\n",
    "    for k in range(n_of_iter):\n",
    "        ##\n",
    "        for i in range(n):\n",
    "            x[i] = (b[i] - A[i,0:i]@x[0:i] - A[i,i+1:]@x[i+1:])/A[i,i]\n",
    "        #\n",
    "        if(np.allclose(A@x-b, 0)):\n",
    "            return x, k\n",
    "        #\n",
    "    return x, n_of_iter"
   ]
  },
  {
   "cell_type": "code",
   "execution_count": 10,
   "metadata": {},
   "outputs": [
    {
     "data": {
      "text/plain": [
       "Text(0, 0.5, 'number of iterations to convergence')"
      ]
     },
     "execution_count": 10,
     "metadata": {},
     "output_type": "execute_result"
    },
    {
     "data": {
      "image/png": "[encoded data removed]",
      "text/plain": [
       "<Figure size 432x288 with 1 Axes>"
      ]
     },
     "metadata": {
      "needs_background": "light"
     },
     "output_type": "display_data"
    }
   ],
   "source": [
    "\n",
    "###############################\n",
    "number_of_iterations_to_convergence = []\n",
    "norm_of_iteration_matrix = []\n",
    "for i in range(1000, 10000, 20):\n",
    "    ##########################\n",
    "    n = 10\n",
    "    rndm = np.random.RandomState(12345)\n",
    "    a1 = np.tril(rndm.uniform(size=(n,n)))*i\n",
    "    a2 = rndm.uniform(size=(n,n))\n",
    "    A = a2 + a1\n",
    "    b = rndm.uniform(size=n)\n",
    "    x, k = seidel_iteration(A, b, 50)\n",
    "#     if(i == 25):\n",
    "#         print(A@x - b)\n",
    "#         print(k)\n",
    "#         print('matin')\n",
    "    ##########################\n",
    "    #L*\n",
    "    Lstar = np.tril(A)\n",
    "    diag_1d = np.diag(A)\n",
    "    D = np.diag(diag_1d)\n",
    "    Ustar = np.triu(A)\n",
    "    #U\n",
    "    U = Ustar - D\n",
    "    ####\n",
    "    iterMatrix = np.linalg.inv(Lstar)@U\n",
    "    normIterMatrix = np.linalg.norm(iterMatrix)\n",
    "    ######################\n",
    "    number_of_iterations_to_convergence.append(k)\n",
    "    norm_of_iteration_matrix.append(normIterMatrix)\n",
    "\n",
    "plt.plot(norm_of_iteration_matrix, number_of_iterations_to_convergence)\n",
    "plt.xlabel('norm of iteration matrix')\n",
    "plt.ylabel('number of iterations to convergence')"
   ]
  },
  {
   "cell_type": "markdown",
   "metadata": {},
   "source": [
    "# III. Minimum residual scheme"
   ]
  },
  {
   "cell_type": "markdown",
   "metadata": {},
   "source": [
    "### Task III.1\n",
    "\n",
    "Implement the $\\textit{minimum residual}$ scheme: an explicit non-stationary method, where at each step you select the iteration parameter $\\tau_n$ to minimize the residual $\\mathbf{r}_{n+1}$ given $\\mathbf{r}_n$. Test it on a random matrix, study the convergence to the solution, in terms of the norm of the residual and the deviation from the ground truth solution (which you can obtain using a direct method). Study how the iteration parameter $\\tau_n$ changes as iterations progress.\n",
    "\n",
    "(50% of the grade)"
   ]
  },
  {
   "cell_type": "code",
   "execution_count": 11,
   "metadata": {},
   "outputs": [],
   "source": [
    "def minimum_residual_scheme(A, b, n_of_iter):\n",
    "    #########################\n",
    "    m = A.shape[0]\n",
    "    n = A.shape[1]\n",
    "    ####\n",
    "    x0 = np.ones(n)\n",
    "    x = x0\n",
    "    #\n",
    "    rnorms, xSubXsol, ts= [], [], []\n",
    "    #\n",
    "    xsol = np.linalg.solve(A, b)\n",
    "    for k in range(n_of_iter):\n",
    "        xSubXsol.append(np.linalg.norm(x-xsol))\n",
    "        r = A@x - b\n",
    "        rnorms.append(np.linalg.norm(r))\n",
    "        t = r@A@r / np.power(np.linalg.norm(A@r) , 2)\n",
    "        ts.append(t)\n",
    "        if(np.allclose(r, 0)):\n",
    "            return x, k, xSubXsol, rnorms, ts\n",
    "        x = x - t*r\n",
    "        \n",
    "        #\n",
    "    return x, n_of_iter, xSubXsol, rnorms, ts"
   ]
  },
  {
   "cell_type": "code",
   "execution_count": 14,
   "metadata": {},
   "outputs": [
    {
     "name": "stdout",
     "output_type": "stream",
     "text": [
      "[ 0.03919429  0.03780037  0.04283232  0.02365951  0.05745031 -0.00030244\n",
      " -0.00577279  0.03177549 -0.00422849  0.05284648]\n",
      "11\n"
     ]
    },
    {
     "data": {
      "text/plain": [
       "Text(0, 0.5, 'value of t')"
      ]
     },
     "execution_count": 14,
     "metadata": {},
     "output_type": "execute_result"
    },
    {
     "data": {
      "image/png": "[encoded data removed]",
      "text/plain": [
       "<Figure size 432x288 with 1 Axes>"
      ]
     },
     "metadata": {
      "needs_background": "light"
     },
     "output_type": "display_data"
    },
    {
     "data": {
      "image/png": "[encoded data removed]",
      "text/plain": [
       "<Figure size 432x288 with 1 Axes>"
      ]
     },
     "metadata": {
      "needs_background": "light"
     },
     "output_type": "display_data"
    }
   ],
   "source": [
    "rndm = np.random.RandomState(1234)\n",
    "\n",
    "n = 10\n",
    "A = rndm.uniform(size=(n, n)) + np.diagflat([15]*n)\n",
    "b = rndm.uniform(size=n)\n",
    "x, k, xSubXsol, rnorms, ts = minimum_residual_scheme(A, b, 50)\n",
    "print(x)\n",
    "print(k)\n",
    "plt.plot(xSubXsol, rnorms)\n",
    "plt.xlabel('x - x_sol')\n",
    "plt.ylabel('norm of residual')\n",
    "plt.figure()\n",
    "plt.plot(ts)\n",
    "plt.xlabel('iteration number')\n",
    "plt.ylabel('value of t')"
   ]
  },
  {
   "cell_type": "code",
   "execution_count": null,
   "metadata": {},
   "outputs": [],
   "source": []
  }
 ],
 "metadata": {
  "kernelspec": {
   "display_name": "Python 3",
   "language": "python",
   "name": "python3"
  },
  "language_info": {
   "codemirror_mode": {
    "name": "ipython",
    "version": 3
   },
   "file_extension": ".py",
   "mimetype": "text/x-python",
   "name": "python",
   "nbconvert_exporter": "python",
   "pygments_lexer": "ipython3",
   "version": "3.8.2"
  }
 },
 "nbformat": 4,
 "nbformat_minor": 2
}
