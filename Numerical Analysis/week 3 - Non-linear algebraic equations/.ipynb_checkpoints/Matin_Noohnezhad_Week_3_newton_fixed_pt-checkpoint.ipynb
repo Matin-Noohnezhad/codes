{
 "cells": [
  {
   "cell_type": "markdown",
   "metadata": {},
   "source": [
    "# Part I. Root-finding. Newton's iteration."
   ]
  },
  {
   "cell_type": "markdown",
   "metadata": {},
   "source": [
    "Write a function which performs Newton's iteration for a given function $f(x)$ with known derivative $f'(x)$. Your function should find the root of $f(x)$ with a predefined absolute accuracy $\\epsilon$. "
   ]
  },
  {
   "cell_type": "code",
   "execution_count": 1,
   "metadata": {},
   "outputs": [],
   "source": [
    "import matplotlib.pyplot as plt\n",
    "import numpy as np"
   ]
  },
  {
   "cell_type": "code",
   "execution_count": 2,
   "metadata": {},
   "outputs": [],
   "source": [
    "def newton_iteration(f, fder, x0, eps=1e-5, maxiter=1000):\n",
    "    \"\"\"Find a root of $f(x) = 0$ via Newton's iteration starting from x0.\n",
    "    \n",
    "    Parameters\n",
    "    ----------\n",
    "    f : callable\n",
    "        The function to find a root of.\n",
    "    fder : callable\n",
    "        The derivative of `f`.\n",
    "    x0 : float\n",
    "        Initial value for the Newton's iteration.\n",
    "    eps : float\n",
    "        The target accuracy. \n",
    "        The iteration stops when the distance between successive iterates is below `eps`.\n",
    "        Default is 1e-5.\n",
    "    maxiter : int\n",
    "        The maximum number of iterations (default is 1000.)\n",
    "        Iterations terminate if the number of iterations exceeds `maxiter`.\n",
    "        This parameter is only needed to avoid infinite loops if iterations wander off.\n",
    "        \n",
    "    Returns\n",
    "    -------\n",
    "    x : float\n",
    "        The estimate for the root.\n",
    "    niter : int\n",
    "        The number of iterations.\n",
    "    \"\"\"\n",
    "    n = 0\n",
    "    x = x0\n",
    "    accuracy = 1000\n",
    "    while (n < maxiter and accuracy > eps):\n",
    "        n += 1\n",
    "        xnew = x - f(x)/fder(f, x)\n",
    "        accuracy = abs(x - xnew)\n",
    "        x = xnew\n",
    "    return x, n\n",
    "        "
   ]
  },
  {
   "cell_type": "markdown",
   "metadata": {},
   "source": [
    "### Test I.1 \n",
    "\n",
    "Test your implementation on a simple example, $f(x) = x^2 - 1$ or similar. (20% of the total grade)"
   ]
  },
  {
   "cell_type": "code",
   "execution_count": 3,
   "metadata": {},
   "outputs": [
    {
     "name": "stdout",
     "output_type": "stream",
     "text": [
      "The root is  1.000000000000001\n",
      "Number of iterations is  5\n"
     ]
    }
   ],
   "source": [
    "def f1(x):\n",
    "    return x**2 - 1\n",
    "\n",
    "def fder(f, x):\n",
    "    a = 1e-3\n",
    "    #\n",
    "    return (f(x+a) - f(x-a)) / (2*a)\n",
    "\n",
    "root, number_of_iterations = newton_iteration(f1, fder, 0.5)\n",
    "\n",
    "print('The root is ', root)\n",
    "print('Number of iterations is ', number_of_iterations)"
   ]
  },
  {
   "cell_type": "markdown",
   "metadata": {},
   "source": [
    "### Test I.2\n",
    "\n",
    "Now consider a function which has a multiple root. Take $f(x) = (x^2 - 1)^2$ as an example. Implement a modified Newton's iteraion,\n",
    "\n",
    "$$\n",
    "x_{n+1} = x_{n} - m \\frac{f(x_n)}{f'(x_n)}\n",
    "$$\n",
    "\n",
    "and vary $m= 1, 2, 3, 4, 5$. Check the number of iterations required for convergence within a fixed $\\epsilon$. Are your observations consistent with the expectation that the convergence is quadratic is $m$ equals the multiplicity of the root, and is linear otherwise? (40% of the total grade)"
   ]
  },
  {
   "cell_type": "code",
   "execution_count": 4,
   "metadata": {},
   "outputs": [
    {
     "name": "stdout",
     "output_type": "stream",
     "text": [
      "best m for this function is = 2 , with 5 iterations to reach the accuracy\n"
     ]
    },
    {
     "data": {
      "image/png": "[encoded data removed]",
      "text/plain": [
       "<Figure size 432x288 with 1 Axes>"
      ]
     },
     "metadata": {
      "needs_background": "light"
     },
     "output_type": "display_data"
    }
   ],
   "source": [
    "def newton_iteration_for_multiple_roots(f, fder, m, x0, eps=1e-5, maxiter=1000):\n",
    "    #\n",
    "    n = 0\n",
    "    x = x0\n",
    "    accuracy = 1000\n",
    "    while (n < maxiter and accuracy > eps):\n",
    "        n += 1\n",
    "        xnew = x - m * f(x) / fder(f, x)\n",
    "        accuracy = abs(x - xnew)\n",
    "        x = xnew\n",
    "    return x, n\n",
    "    #\n",
    "\n",
    "def f2(x):\n",
    "    return (x**2 - 1)**2\n",
    "\n",
    "ms = []\n",
    "number_of_iterations_list = []\n",
    "for m in range(1,6):\n",
    "    _, number_of_iterations = newton_iteration_for_multiple_roots(f2, fder, m, 0.5)\n",
    "    ms.append(m)\n",
    "    number_of_iterations_list.append(number_of_iterations)\n",
    "\n",
    "#########\n",
    "\n",
    "plt.plot(ms, number_of_iterations_list)\n",
    "plt.xlabel('m')\n",
    "plt.ylabel('number of iterations needed for convergence')\n",
    "\n",
    "argmin = np.argmin(number_of_iterations_list)\n",
    "best_m = ms[argmin]\n",
    "ni = number_of_iterations_list[argmin]\n",
    "print(f'best m for this function is = {best_m} , with {ni} iterations to reach the accuracy')"
   ]
  },
  {
   "cell_type": "markdown",
   "metadata": {},
   "source": [
    "# Part II. Fixed-point iteration"
   ]
  },
  {
   "cell_type": "markdown",
   "metadata": {},
   "source": [
    "Consider the following equation:\n",
    "\n",
    "$$\n",
    "\\sqrt{x} = \\cos{x}\n",
    "$$\n",
    "\n",
    "Plot the left-hand side and right-hand side of this equation, and localize the root graphically. Estimate the location of the root by visual inspection of the plot.\n",
    "\n",
    "Write a function which finds the solution using fixed-point iteration up to a predefined accuracy $\\epsilon$. Compare the result to an estimate from a visual inspection.\n",
    "\n",
    "Next, rewrite the fixed-point problem in the form\n",
    "\n",
    "$$\n",
    "x = x - \\alpha f(x)\n",
    "$$\n",
    "\n",
    "where $\\alpha$ is the free parameter. Check the dependence of the number of iterations required for a given $\\epsilon$ on $\\alpha$. Compare your results to an expectation that the optimal value of $\\alpha$ is given by \n",
    "\n",
    "$$\n",
    "\\alpha = \\frac{2}{m + M}\n",
    "$$\n",
    "\n",
    "where $0 < m < |f'(x)| < M$ over the localization interval. (40% of the total grade)"
   ]
  },
  {
   "cell_type": "code",
   "execution_count": 5,
   "metadata": {},
   "outputs": [
    {
     "data": {
      "image/png": "[encoded data removed]",
      "text/plain": [
       "<Figure size 432x288 with 1 Axes>"
      ]
     },
     "metadata": {
      "needs_background": "light"
     },
     "output_type": "display_data"
    }
   ],
   "source": [
    "x = np.arange(0, 1, 0.0005)\n",
    "\n",
    "cosx = np.cos(x)\n",
    "radx = np.sqrt(x)\n",
    "\n",
    "plt.plot(x, cosx)\n",
    "plt.plot(x, radx)\n",
    "\n",
    "plt.show()"
   ]
  },
  {
   "cell_type": "markdown",
   "metadata": {},
   "source": [
    "root of this function is around 0.625 "
   ]
  },
  {
   "cell_type": "code",
   "execution_count": 6,
   "metadata": {},
   "outputs": [
    {
     "name": "stdout",
     "output_type": "stream",
     "text": [
      "0.6417143702656569\n"
     ]
    }
   ],
   "source": [
    "from math import sqrt, cos\n",
    "def fx(x):\n",
    "    return sqrt(x) - cos(x)\n",
    "\n",
    "def gx(x, fx):\n",
    "    return x - fx(x)\n",
    "\n",
    "def fixed_pt_iteration(x0, fx, gx, epsilon=0.0001, max_iter=10000):\n",
    "    n = 0\n",
    "    x = x0\n",
    "    accuracy = 1000\n",
    "    while (n<max_iter and accuracy>epsilon):\n",
    "        n += 1\n",
    "        a = gx(x, fx)\n",
    "        accuracy = abs(x - a)\n",
    "        x = a\n",
    "    return x\n",
    "\n",
    "root_of_fx = fixed_pt_iteration(0.6, fx, gx, epsilon=1e-8)\n",
    "\n",
    "print(root_of_fx)"
   ]
  },
  {
   "cell_type": "markdown",
   "metadata": {},
   "source": [
    "0.6417143702656569 (estimate) vs 0.625 (visual inspection)"
   ]
  },
  {
   "cell_type": "code",
   "execution_count": 7,
   "metadata": {
    "scrolled": true
   },
   "outputs": [
    {
     "name": "stdout",
     "output_type": "stream",
     "text": [
      "The best value for alpha is =  0.8000000000000002\n"
     ]
    },
    {
     "data": {
      "image/png": "[encoded data removed]",
      "text/plain": [
       "<Figure size 432x288 with 1 Axes>"
      ]
     },
     "metadata": {
      "needs_background": "light"
     },
     "output_type": "display_data"
    }
   ],
   "source": [
    "def gx_with_alpha(x, fx, alpha):\n",
    "    return x - alpha * fx(x)\n",
    "\n",
    "def fixed_pt_iteration_with_alpha(x0, fx, gx_with_alpha, alpha, epsilon=0.0001, max_iter=10000):\n",
    "    n = 0\n",
    "    x = x0\n",
    "    accuracy = 1000\n",
    "    while (n<max_iter and accuracy>epsilon):\n",
    "        n += 1\n",
    "        a = gx_with_alpha(x, fx, alpha)\n",
    "        accuracy = abs(x - a)\n",
    "        x = a\n",
    "    return x, n\n",
    "\n",
    "alphas = []\n",
    "number_of_iterations = []\n",
    "for alpha in np.arange(0.1, 0.99, 0.05):\n",
    "    _, n = fixed_pt_iteration_with_alpha(0.6, fx, gx_with_alpha, alpha, epsilon=1e-8)\n",
    "    alphas.append(alpha)\n",
    "    number_of_iterations.append(n)\n",
    "    \n",
    "# print(root_of_fx)\n",
    "plt.plot(alphas, number_of_iterations)\n",
    "plt.xlabel('alpha value')\n",
    "plt.ylabel('number of iterations')\n",
    "\n",
    "argmin = np.argmin(number_of_iterations)\n",
    "print('The best value for alpha is = ', alphas[argmin])\n"
   ]
  },
  {
   "cell_type": "code",
   "execution_count": 8,
   "metadata": {},
   "outputs": [
    {
     "data": {
      "text/plain": [
       "0.8156701021464831"
      ]
     },
     "execution_count": 8,
     "metadata": {},
     "output_type": "execute_result"
    }
   ],
   "source": [
    "# We select the interval to be between 0.6 and 0.7\n",
    "\n",
    "# for example choose m and M like this.\n",
    "a = (fx(0.6001) - fx(0.5999)) / 0.0002\n",
    "b = (fx(0.7001) - fx(0.6999)) / 0.0002\n",
    "\n",
    "m = min(a, b)\n",
    "M = max(a, b)\n",
    "\n",
    "def optimal_value_of_alpha_by_formula(m, M):\n",
    "    return 2 / (m+M)\n",
    "\n",
    "optimal_value_of_alpha_by_formula(m, M)"
   ]
  },
  {
   "cell_type": "markdown",
   "metadata": {},
   "source": [
    "optimal value of alpha by formula = 0.8156701021464831 \n",
    "\n",
    "                Vs\n",
    "    \n",
    "optimal value of alpha by real experiment = 0.8000000000000002"
   ]
  },
  {
   "cell_type": "markdown",
   "metadata": {
    "collapsed": true
   },
   "source": [
    "# Part III. Newton's fractal.\n",
    "\n",
    "(Not graded). \n",
    "\n",
    "Consider the equation\n",
    "\n",
    "$$\n",
    "x^3 = 1\n",
    "$$\n",
    "\n",
    "It has three solutions in the complex plane, $x_k = \\exp(i\\, 2\\pi k/ 3)$, $k = 0, 1, 2$.\n",
    "\n",
    "The Newton's iterations converge to one of these solutions, depending on the starting point in the complex plane (to converge to a complex-valued solution, the iteration needs a complex-valued starting point).\n",
    "\n",
    "Plot the \\emph{basins of attraction} of these roots on the complex plane of $x$ (i.e., on the plane $\\mathrm{Re}x$ -- $\\mathrm{Im}x$). To this end, make a series of calculations, varying the initial conditions on a grid of points. \n",
    "Color the grid in three colors, according to the root, to which iterations converged."
   ]
  }
 ],
 "metadata": {
  "kernelspec": {
   "display_name": "Python 3",
   "language": "python",
   "name": "python3"
  },
  "language_info": {
   "codemirror_mode": {
    "name": "ipython",
    "version": 3
   },
   "file_extension": ".py",
   "mimetype": "text/x-python",
   "name": "python",
   "nbconvert_exporter": "python",
   "pygments_lexer": "ipython3",
   "version": "3.8.5"
  }
 },
 "nbformat": 4,
 "nbformat_minor": 2
}
