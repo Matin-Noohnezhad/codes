{
 "cells": [
  {
   "cell_type": "markdown",
   "metadata": {},
   "source": [
    "# Part I. Root-finding. Newton's iteration."
   ]
  },
  {
   "cell_type": "markdown",
   "metadata": {},
   "source": [
    "Write a function which performs Newton's iteration for a given function $f(x)$ with known derivative $f'(x)$. Your function should find the root of $f(x)$ with a predefined absolute accuracy $\\epsilon$. "
   ]
  },
  {
   "cell_type": "code",
   "execution_count": 1,
   "metadata": {},
   "outputs": [],
   "source": [
    "def newton_iteration(f, fder, x0, eps=1e-5, maxiter=1000):\n",
    "    \"\"\"Find a root of $f(x) = 0$ via Newton's iteration starting from x0.\n",
    "    \n",
    "    Parameters\n",
    "    ----------\n",
    "    f : callable\n",
    "        The function to find a root of.\n",
    "    fder : callable\n",
    "        The derivative of `f`.\n",
    "    x0 : float\n",
    "        Initial value for the Newton's iteration.\n",
    "    eps : float\n",
    "        The target accuracy. \n",
    "        The iteration stops when the distance between successive iterates is below `eps`.\n",
    "        Default is 1e-5.\n",
    "    maxiter : int\n",
    "        The maximum number of iterations (default is 1000.)\n",
    "        Iterations terminate if the number of iterations exceeds `maxiter`.\n",
    "        This parameter is only needed to avoid infinite loops if iterations wander off.\n",
    "        \n",
    "    Returns\n",
    "    -------\n",
    "    x : float\n",
    "        The estimate for the root.\n",
    "    niter : int\n",
    "        The number of iterations.\n",
    "    \"\"\"\n",
    "import numpy as np\n",
    "\n",
    "def f(x):\n",
    "    return x*x-1\n",
    "def fder(x):\n",
    "    return 2*x\n",
    "def newton_iteration(x0, eps, maxiter):\n",
    "    niter = 0\n",
    "    xPrev = x0\n",
    "    x = xPrev-f(xPrev)/fder(xPrev) # zero crossing of tangent line\n",
    "    while niter <= maxiter and abs(xPrev-x) > eps:\n",
    "        xPrev = x\n",
    "        x = xPrev - f(xPrev) / fder(xPrev)\n",
    "        niter += 1\n",
    "    return x, niter"
   ]
  },
  {
   "cell_type": "markdown",
   "metadata": {},
   "source": [
    "### Test I.1 \n",
    "\n",
    "Test your implementation on a simple example, $f(x) = x^2 - 1$ or similar. (20% of the total grade)"
   ]
  },
  {
   "cell_type": "code",
   "execution_count": 2,
   "metadata": {},
   "outputs": [
    {
     "name": "stdout",
     "output_type": "stream",
     "text": [
      "Root of f(x): -1.0000000000078832 Number of iterations: 3\n",
      "Root of f(x): 1.0 Number of iterations: 4\n"
     ]
    }
   ],
   "source": [
    "x0 = np.array([-0.6754,0.5343])#Initial value found analytically\n",
    "for i in range(len(x0)):\n",
    "    x, niter = newton_iteration(x0[i],1e-5,1000)\n",
    "    print(\"Root of f(x):\",x,\"Number of iterations:\",niter)"
   ]
  },
  {
   "cell_type": "markdown",
   "metadata": {},
   "source": [
    "### Test I.2\n",
    "\n",
    "Now consider a function which has a multiple root. Take $f(x) = (x^2 - 1)^2$ as an example. Implement a modified Newton's iteraion,\n",
    "\n",
    "$$\n",
    "x_{n+1} = x_{n} - m \\frac{f(x_n)}{f'(x_n)}\n",
    "$$\n",
    "\n",
    "and vary $m= 1, 2, 3, 4, 5$. Check the number of iterations required for convergence within a fixed $\\epsilon$. Are your observations consistent with the expectation that the convergence is quadratic is $m$ equals the multiplicity of the root, and is linear otherwise? (40% of the total grade)"
   ]
  },
  {
   "cell_type": "code",
   "execution_count": 3,
   "metadata": {},
   "outputs": [
    {
     "name": "stdout",
     "output_type": "stream",
     "text": [
      "Root of f(x): 0.9999902545401529 at m: 1 with number of iterations: 13\n",
      "Root of f(x): 1.000000000000001 at m: 2 with number of iterations: 3\n",
      "Root of f(x): 1.0000018140070077 at m: 3 with number of iterations: 16\n",
      "Root of f(x): 1.2499999999999998 at m: 4 with number of iterations: 1000\n",
      "Root of f(x): -0.9542240404570501 at m: 5 with number of iterations: 1000\n"
     ]
    }
   ],
   "source": [
    "def f(x):\n",
    "    return (x*x-1)**2\n",
    "def fder(x):\n",
    "    return 4*x*(x*x-1)\n",
    "def mod_newton_iteration(x0, eps, maxiter,m):\n",
    "    niter = 0\n",
    "    xPrev = x0\n",
    "    x = xPrev-m*f(xPrev)/fder(xPrev) # zero crossing of tangent line\n",
    "    while niter < maxiter and abs(xPrev-x) > eps:\n",
    "        xPrev = x\n",
    "        x = xPrev - m*f(xPrev) / fder(xPrev)\n",
    "        niter += 1\n",
    "    return x,niter\n",
    "\n",
    "x0 = 0.8#Initial value found graphically\n",
    "for m in range(1,6):\n",
    "    x,niter = mod_newton_iteration(x0,1e-5,1000,m)\n",
    "    print(\"Root of f(x):\",x,\"at m:\",m,\"with number of iterations:\",niter)"
   ]
  },
  {
   "cell_type": "markdown",
   "metadata": {},
   "source": [
    "# Part II. Fixed-point iteration"
   ]
  },
  {
   "cell_type": "markdown",
   "metadata": {},
   "source": [
    "Consider the following equation:\n",
    "\n",
    "$$\n",
    "\\sqrt{x} = \\cos{x}\n",
    "$$\n",
    "\n",
    "Plot the left-hand side and right-hand side of this equation, and localize the root graphically. Estimate the location of the root by visual inspection of the plot.\n",
    "\n",
    "Write a function which finds the solution using fixed-point iteration up to a predefined accuracy $\\epsilon$. Compare the result to an estimate from a visual inspection.\n",
    "\n",
    "Next, rewrite the fixed-point problem in the form\n",
    "\n",
    "$$\n",
    "x = x - \\alpha f(x)\n",
    "$$\n",
    "\n",
    "where $\\alpha$ is the free parameter. Check the dependence of the number of iterations required for a given $\\epsilon$ on $\\alpha$. Compare your results to an expectation that the optimal value of $\\alpha$ is given by \n",
    "\n",
    "$$\n",
    "\\alpha = \\frac{2}{m + M}\n",
    "$$\n",
    "\n",
    "where $0 < m < |f'(x)| < M$ over the localization interval. (40% of the total grade)"
   ]
  },
  {
   "cell_type": "code",
   "execution_count": 4,
   "metadata": {},
   "outputs": [
    {
     "name": "stdout",
     "output_type": "stream",
     "text": [
      "Root of f(x): 0.6418828386341561 with number of iterations: 4\n"
     ]
    },
    {
     "data": {
      "image/png": "[encoded data removed]",
      "text/plain": [
       "<Figure size 432x288 with 1 Axes>"
      ]
     },
     "metadata": {
      "needs_background": "light"
     },
     "output_type": "display_data"
    }
   ],
   "source": [
    "import numpy as np\n",
    "import matplotlib.pyplot as plt\n",
    "\n",
    "def f(x):\n",
    "    return np.sqrt(x) - np.cos(x)\n",
    "\n",
    "def phi(x,a=1):\n",
    "    return x-a*f(x)\n",
    "\n",
    "def fixed_point_iteration(x0, eps, maxiter):\n",
    "    niter = 0\n",
    "    xPrev = x0\n",
    "    x = phi(xPrev)\n",
    "    while niter <= maxiter and abs(xPrev-x) > eps:\n",
    "        xPrev = x\n",
    "        x = phi(xPrev)\n",
    "        niter += 1\n",
    "    return x,niter\n",
    "\n",
    "X = np.arange(0,3,0.1)   # start,stop,step\n",
    "Y1 = np.sqrt(X) -np.cos(X)\n",
    "plt.axhline(0,color='black') # x = 0\n",
    "plt.axvline(0,color='black') # y = 0\n",
    "plt.grid()\n",
    "plt.plot(X,Y1)\n",
    "x0 = 0.3#Initial value found graphically\n",
    "x,niter = fixed_point_iteration(x0,1e-3,1000)\n",
    "print(\"Root of f(x):\",x,\"with number of iterations:\",niter)\n",
    "plt.show()"
   ]
  },
  {
   "cell_type": "markdown",
   "metadata": {},
   "source": [
    "# Part III. Newton's fractal.\n",
    "\n",
    "(Not graded). \n",
    "\n",
    "Consider the equation\n",
    "\n",
    "$$\n",
    "x^3 = 1\n",
    "$$\n",
    "\n",
    "It has three solutions in the complex plane, $x_k = \\exp(i\\, 2\\pi k/ 3)$, $k = 0, 1, 2$.\n",
    "\n",
    "The Newton's iterations converge to one of these solutions, depending on the starting point in the complex plane (to converge to a complex-valued solution, the iteration needs a complex-valued starting point).\n",
    "\n",
    "Plot the \\emph{basins of attraction} of these roots on the complex plane of $x$ (i.e., on the plane $\\mathrm{Re}x$ -- $\\mathrm{Im}x$). To this end, make a series of calculations, varying the initial conditions on a grid of points. \n",
    "Color the grid in three colors, according to the root, to which iterations converged."
   ]
  },
  {
   "cell_type": "code",
   "execution_count": null,
   "metadata": {
    "collapsed": true
   },
   "outputs": [],
   "source": []
  }
 ],
 "metadata": {
  "kernelspec": {
   "display_name": "Python 3",
   "language": "python",
   "name": "python3"
  },
  "language_info": {
   "codemirror_mode": {
    "name": "ipython",
    "version": 3
   },
   "file_extension": ".py",
   "mimetype": "text/x-python",
   "name": "python",
   "nbconvert_exporter": "python",
   "pygments_lexer": "ipython3",
   "version": "3.8.5"
  }
 },
 "nbformat": 4,
 "nbformat_minor": 2
}
