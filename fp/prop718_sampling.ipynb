{
  "nbformat": 4,
  "nbformat_minor": 0,
  "metadata": {
    "kernelspec": {
      "display_name": "Python 3",
      "language": "python",
      "name": "python3"
    },
    "language_info": {
      "codemirror_mode": {
        "name": "ipython",
        "version": 3
      },
      "file_extension": ".py",
      "mimetype": "text/x-python",
      "name": "python",
      "nbconvert_exporter": "python",
      "pygments_lexer": "ipython3",
      "version": "3.8.5"
    },
    "colab": {
      "name": "prop718_sampling.ipynb",
      "provenance": []
    }
  },
  "cells": [
    {
      "cell_type": "code",
      "metadata": {
        "id": "TkdfoOEjgMZr"
      },
      "source": [
        "import tensorflow as tf\n",
        "from tensorflow.keras import datasets, models\n",
        "from tensorflow.keras.layers import Dense, Conv2D, Flatten, Dropout, MaxPooling2D, BatchNormalization\n",
        "from tensorflow import keras\n",
        "import numpy as np\n",
        "from sklearn.model_selection import train_test_split\n",
        "\n",
        "# import os\n",
        "# os.environ[\"CUDA_VISIBLE_DEVICES\"] = \"-1\""
      ],
      "execution_count": 1,
      "outputs": []
    },
    {
      "cell_type": "code",
      "metadata": {
        "colab": {
          "base_uri": "https://localhost:8080/"
        },
        "id": "eoXMyGPSgMZ0",
        "outputId": "d441dc36-bb81-4288-805e-160f51a45015"
      },
      "source": [
        "(x_train, y_train), (x_test, y_test) = datasets.cifar10.load_data()"
      ],
      "execution_count": 2,
      "outputs": [
        {
          "output_type": "stream",
          "text": [
            "Downloading data from https://www.cs.toronto.edu/~kriz/cifar-10-python.tar.gz\n",
            "170500096/170498071 [==============================] - 4s 0us/step\n"
          ],
          "name": "stdout"
        }
      ]
    },
    {
      "cell_type": "code",
      "metadata": {
        "id": "wMmnd2C9gMZ2"
      },
      "source": [
        "set_size = x_train.shape[0]\n",
        "downsampling_ratio = 10\n",
        "#####\n",
        "sample_no = np.arange(set_size)\n",
        "sample_no = np.random.choice(sample_no, int(set_size/downsampling_ratio), replace=False)\n",
        "x_train = x_train[sample_no]\n",
        "y_train = y_train[sample_no]\n",
        "##\n",
        "x_train = x_train.astype('float32')\n",
        "x_test = x_test.astype('float32')\n",
        "##\n",
        "mean = np.mean(x_train,axis=(0,1,2,3))\n",
        "std = np.std(x_train,axis=(0,1,2,3))\n",
        "x_train = (x_train-mean)/(std+1e-7)\n",
        "x_test = (x_test-mean)/(std+1e-7)\n"
      ],
      "execution_count": 3,
      "outputs": []
    },
    {
      "cell_type": "code",
      "metadata": {
        "id": "H_jZJvZLhjrZ"
      },
      "source": [
        "# (x_train, y_train)[:].shape"
      ],
      "execution_count": 4,
      "outputs": []
    },
    {
      "cell_type": "code",
      "metadata": {
        "id": "TiAkgpSlgMZ3"
      },
      "source": [
        "y_train = keras.utils.to_categorical(y_train, 10)\n",
        "y_test = keras.utils.to_categorical(y_test, 10)"
      ],
      "execution_count": 5,
      "outputs": []
    },
    {
      "cell_type": "code",
      "metadata": {
        "id": "CY9WI-9_gMZ4"
      },
      "source": [
        "def build(input_shape, no_classes):\n",
        "    model = models.Sequential()\n",
        "    model.add(Conv2D(32, (3,3), padding='same', activation='relu', input_shape=input_shape))\n",
        "    model.add(BatchNormalization())\n",
        "    model.add(Conv2D(32, (3,3), padding='same', activation='relu'))\n",
        "    model.add(BatchNormalization())\n",
        "    model.add(MaxPooling2D((2,2)))\n",
        "    model.add(Dropout(0.3))\n",
        "    ##\n",
        "    model.add(Conv2D(64, (3,3), padding='same', activation='relu'))\n",
        "    model.add(BatchNormalization())\n",
        "    model.add(Conv2D(64, (3,3), padding='same', activation='relu'))\n",
        "    model.add(BatchNormalization())\n",
        "    model.add(MaxPooling2D((2,2)))\n",
        "    model.add(Dropout(0.3))\n",
        "    ##\n",
        "    model.add(Conv2D(128, (3,3), padding='same', activation='relu'))\n",
        "    model.add(BatchNormalization())\n",
        "    model.add(Conv2D(128, (3,3), padding='same', activation='relu'))\n",
        "    model.add(BatchNormalization())\n",
        "    model.add(MaxPooling2D((2,2)))\n",
        "    model.add(Dropout(0.3))\n",
        "    ##\n",
        "    model.add(Conv2D(256, (3,3), padding='same', activation='relu'))\n",
        "    model.add(BatchNormalization())\n",
        "    model.add(Conv2D(256, (3,3), padding='same', activation='relu'))\n",
        "    model.add(BatchNormalization())\n",
        "    model.add(MaxPooling2D((2,2)))\n",
        "    model.add(Dropout(0.3))\n",
        "    ##\n",
        "    model.add(Flatten())\n",
        "    model.add(Dense(512, activation='relu'))\n",
        "    model.add(Dense(no_classes, activation='softmax'))\n",
        "    ##\n",
        "    return model"
      ],
      "execution_count": 6,
      "outputs": []
    },
    {
      "cell_type": "code",
      "metadata": {
        "id": "CadN7ok6gMZ5"
      },
      "source": [
        "model = build(x_train.shape[1:], 10)"
      ],
      "execution_count": 7,
      "outputs": []
    },
    {
      "cell_type": "code",
      "metadata": {
        "id": "L92akJejgMZ6"
      },
      "source": [
        "# model.summary()"
      ],
      "execution_count": 8,
      "outputs": []
    },
    {
      "cell_type": "code",
      "metadata": {
        "id": "ZWxAn4SsgMZ6"
      },
      "source": [
        "model.compile(loss='categorical_crossentropy', optimizer='adam', metrics=['accuracy'])"
      ],
      "execution_count": 9,
      "outputs": []
    },
    {
      "cell_type": "code",
      "metadata": {
        "colab": {
          "base_uri": "https://localhost:8080/"
        },
        "id": "PJsk_Rq6gMZ8",
        "outputId": "a372373b-833a-403b-da6c-e7c7097e0f05"
      },
      "source": [
        "convergence_accuracy_diff = 0.002\n",
        "converge = False\n",
        "old_acc = 0\n",
        "num_epoch_to_converge = 0\n",
        "while converge==False:\n",
        "  num_epoch_to_converge += 1\n",
        "  hist = model.fit(x_train, y_train, batch_size=64, epochs=2, verbose=1, validation_data=(x_test, y_test))\n",
        "  new_acc = hist.history['accuracy'][-1]\n",
        "  if (new_acc - old_acc) < convergence_accuracy_diff:\n",
        "    converge = True\n",
        "  old_acc = new_acc"
      ],
      "execution_count": 11,
      "outputs": [
        {
          "output_type": "stream",
          "text": [
            "Epoch 1/2\n",
            "79/79 [==============================] - 82s 1s/step - loss: 1.7107 - accuracy: 0.3830 - val_loss: 2.9750 - val_accuracy: 0.1631\n",
            "Epoch 2/2\n",
            "79/79 [==============================] - 81s 1s/step - loss: 1.5630 - accuracy: 0.4340 - val_loss: 2.9835 - val_accuracy: 0.1777\n",
            "[0.382999986410141, 0.4339999854564667]\n",
            "0.4339999854564667\n"
          ],
          "name": "stdout"
        }
      ]
    },
    {
      "cell_type": "code",
      "metadata": {
        "id": "txFkfrFHgMZ-"
      },
      "source": [
        "    #train error\n",
        "    _, train_accuracy = model.evaluate(x_train, y_train)\n",
        "    train_error = (1 - train_accuracy)*100\n",
        "#     y_train_error.append(train_error)\n",
        "    #test_error\n",
        "    _, test_accuracy = model.evaluate(x_test, y_test)\n",
        "    test_error = (1 - test_accuracy)*100\n",
        "#     y_test_error.append(test_error)\n",
        "print('train error = {}\\ntest error = {}'.format(train_error,test_error))"
      ],
      "execution_count": null,
      "outputs": []
    },
    {
      "cell_type": "code",
      "metadata": {
        "id": "fikbq0tQgMZ_"
      },
      "source": [
        ""
      ],
      "execution_count": null,
      "outputs": []
    }
  ]
}