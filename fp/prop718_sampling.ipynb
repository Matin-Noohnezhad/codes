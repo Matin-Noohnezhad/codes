{
  "nbformat": 4,
  "nbformat_minor": 0,
  "metadata": {
    "kernelspec": {
      "display_name": "Python 3",
      "language": "python",
      "name": "python3"
    },
    "language_info": {
      "codemirror_mode": {
        "name": "ipython",
        "version": 3
      },
      "file_extension": ".py",
      "mimetype": "text/x-python",
      "name": "python",
      "nbconvert_exporter": "python",
      "pygments_lexer": "ipython3",
      "version": "3.8.5"
    },
    "colab": {
      "name": "prop718_sampling.ipynb",
      "provenance": [],
      "collapsed_sections": []
    },
    "accelerator": "GPU"
  },
  "cells": [
    {
      "cell_type": "code",
      "metadata": {
        "id": "TkdfoOEjgMZr"
      },
      "source": [
        "import tensorflow as tf\n",
        "from tensorflow.keras import datasets, models\n",
        "from tensorflow.keras.layers import Dense, Conv2D, Flatten, Dropout, MaxPooling2D, BatchNormalization\n",
        "from tensorflow import keras\n",
        "import numpy as np\n",
        "# from sklearn.model_selection import train_test_split\n",
        "\n",
        "# import os\n",
        "# os.environ[\"CUDA_VISIBLE_DEVICES\"] = \"-1\""
      ],
      "execution_count": 1,
      "outputs": []
    },
    {
      "cell_type": "code",
      "metadata": {
        "id": "eoXMyGPSgMZ0",
        "colab": {
          "base_uri": "https://localhost:8080/"
        },
        "outputId": "3f3de411-d591-4c18-b8fb-fa14a7941074"
      },
      "source": [
        "(x_train, y_train), (x_test, y_test) = datasets.cifar10.load_data()"
      ],
      "execution_count": 2,
      "outputs": [
        {
          "output_type": "stream",
          "text": [
            "Downloading data from https://www.cs.toronto.edu/~kriz/cifar-10-python.tar.gz\n",
            "170500096/170498071 [==============================] - 2s 0us/step\n"
          ],
          "name": "stdout"
        }
      ]
    },
    {
      "cell_type": "code",
      "metadata": {
        "id": "wMmnd2C9gMZ2"
      },
      "source": [
        "x_train = x_train.astype('float32')\n",
        "x_test = x_test.astype('float32')"
      ],
      "execution_count": 3,
      "outputs": []
    },
    {
      "cell_type": "code",
      "metadata": {
        "id": "TiAkgpSlgMZ3"
      },
      "source": [
        "y_train = keras.utils.to_categorical(y_train, 10)\n",
        "y_test = keras.utils.to_categorical(y_test, 10)"
      ],
      "execution_count": 4,
      "outputs": []
    },
    {
      "cell_type": "code",
      "metadata": {
        "id": "CY9WI-9_gMZ4"
      },
      "source": [
        "def build(input_shape, no_classes):\n",
        "    model = models.Sequential()\n",
        "    model.add(Conv2D(32, (3,3), padding='same', activation='relu', input_shape=input_shape))\n",
        "    model.add(BatchNormalization())\n",
        "    model.add(Conv2D(32, (3,3), padding='same', activation='relu'))\n",
        "    model.add(BatchNormalization())\n",
        "    model.add(MaxPooling2D((2,2)))\n",
        "    model.add(Dropout(0.3))\n",
        "    ##\n",
        "    model.add(Conv2D(64, (3,3), padding='same', activation='relu'))\n",
        "    model.add(BatchNormalization())\n",
        "    model.add(Conv2D(64, (3,3), padding='same', activation='relu'))\n",
        "    model.add(BatchNormalization())\n",
        "    model.add(MaxPooling2D((2,2)))\n",
        "    model.add(Dropout(0.3))\n",
        "    ##\n",
        "    model.add(Conv2D(128, (3,3), padding='same', activation='relu'))\n",
        "    model.add(BatchNormalization())\n",
        "    model.add(Conv2D(128, (3,3), padding='same', activation='relu'))\n",
        "    model.add(BatchNormalization())\n",
        "    model.add(MaxPooling2D((2,2)))\n",
        "    model.add(Dropout(0.3))\n",
        "    ##\n",
        "    model.add(Conv2D(256, (3,3), padding='same', activation='relu'))\n",
        "    model.add(BatchNormalization())\n",
        "    model.add(Conv2D(256, (3,3), padding='same', activation='relu'))\n",
        "    model.add(BatchNormalization())\n",
        "    model.add(MaxPooling2D((2,2)))\n",
        "    model.add(Dropout(0.3))\n",
        "    ##\n",
        "    model.add(Flatten())\n",
        "    model.add(Dense(512, activation='relu'))\n",
        "    model.add(Dense(no_classes, activation='softmax'))\n",
        "    ##\n",
        "    return model"
      ],
      "execution_count": 5,
      "outputs": []
    },
    {
      "cell_type": "code",
      "metadata": {
        "id": "CadN7ok6gMZ5"
      },
      "source": [
        "model = build(x_train.shape[1:], 10)"
      ],
      "execution_count": 6,
      "outputs": []
    },
    {
      "cell_type": "code",
      "metadata": {
        "id": "L92akJejgMZ6"
      },
      "source": [
        "# model.summary()"
      ],
      "execution_count": 7,
      "outputs": []
    },
    {
      "cell_type": "code",
      "metadata": {
        "id": "ZWxAn4SsgMZ6"
      },
      "source": [
        "# model.compile(loss='categorical_crossentropy', optimizer='adam', metrics=['accuracy'])"
      ],
      "execution_count": 8,
      "outputs": []
    },
    {
      "cell_type": "code",
      "metadata": {
        "colab": {
          "base_uri": "https://localhost:8080/"
        },
        "id": "PJsk_Rq6gMZ8",
        "outputId": "82d35284-4ac5-4a18-cc94-09796e869cdb"
      },
      "source": [
        "import time\n",
        "##\n",
        "convergence_accuracy_diff = 0.002\n",
        "set_size = x_train.shape[0]\n",
        "train_set_errors = []\n",
        "test_set_errors = []\n",
        "training_time_to_convergence = []\n",
        "##########\n",
        "for downsampling_ratio in range(2,21,2):\n",
        "  sample_no = np.arange(set_size)\n",
        "  sample_no = np.random.choice(sample_no, int(set_size/downsampling_ratio), replace=False)\n",
        "  x_train_new = x_train[sample_no]\n",
        "  y_train_new = y_train[sample_no]\n",
        "  mean = np.mean(x_train_new,axis=(0,1,2,3))\n",
        "  std = np.std(x_train_new,axis=(0,1,2,3))\n",
        "  x_train_new = (x_train_new-mean)/(std+1e-7)\n",
        "  x_test = (x_test-mean)/(std+1e-7)\n",
        "  converge = False\n",
        "  old_acc = 0\n",
        "  num_epoch_to_converge = 0\n",
        "  model.compile(loss='categorical_crossentropy', optimizer='adam', metrics=['accuracy'])\n",
        "  train_error_curve = []\n",
        "  test_error_curve = []\n",
        "  train_time = 0\n",
        "  start = time.time()\n",
        "  while converge==False:\n",
        "    num_epoch_to_converge += 1\n",
        "    start = time.time()\n",
        "    hist = model.fit(x_train_new, y_train_new, batch_size=64, epochs=1, verbose=1)\n",
        "    end = time.time()\n",
        "    train_time += (end - start)\n",
        "    new_acc = hist.history['accuracy'][-1]\n",
        "    if (new_acc - old_acc) < convergence_accuracy_diff:\n",
        "      converge = True\n",
        "    old_acc = new_acc\n",
        "    new_train_error = (1 - new_acc)*100\n",
        "    train_error_curve.append(new_train_error)\n",
        "    ##\n",
        "    _, new_test_accuracy = model.evaluate(x_test, y_test)\n",
        "    new_test_error = (1 - new_test_accuracy)*100\n",
        "    test_error_curve.append(new_test_error)\n",
        "    ##\n",
        "  train_set_errors.append(train_error_curve)\n",
        "  test_set_errors.append(test_error_curve)\n",
        "  training_time_to_convergence.append(train_time)"
      ],
      "execution_count": 9,
      "outputs": [
        {
          "output_type": "stream",
          "text": [
            "391/391 [==============================] - 12s 10ms/step - loss: 2.0757 - accuracy: 0.3277\n",
            "313/313 [==============================] - 1s 3ms/step - loss: 1.5107 - accuracy: 0.4615\n",
            "391/391 [==============================] - 4s 10ms/step - loss: 1.2140 - accuracy: 0.5576\n",
            "313/313 [==============================] - 1s 3ms/step - loss: 1.1427 - accuracy: 0.6038\n",
            "391/391 [==============================] - 4s 10ms/step - loss: 0.9984 - accuracy: 0.6402\n",
            "313/313 [==============================] - 1s 3ms/step - loss: 0.9569 - accuracy: 0.6702\n",
            "391/391 [==============================] - 4s 10ms/step - loss: 0.8664 - accuracy: 0.6929\n",
            "313/313 [==============================] - 1s 3ms/step - loss: 0.8220 - accuracy: 0.7084\n",
            "391/391 [==============================] - 4s 10ms/step - loss: 0.7672 - accuracy: 0.7266\n",
            "313/313 [==============================] - 1s 3ms/step - loss: 0.7876 - accuracy: 0.7296\n",
            "391/391 [==============================] - 4s 10ms/step - loss: 0.6892 - accuracy: 0.7567\n",
            "313/313 [==============================] - 1s 3ms/step - loss: 0.7243 - accuracy: 0.7535\n",
            "391/391 [==============================] - 4s 10ms/step - loss: 0.6311 - accuracy: 0.7772\n",
            "313/313 [==============================] - 1s 3ms/step - loss: 0.6877 - accuracy: 0.7658\n",
            "391/391 [==============================] - 4s 10ms/step - loss: 0.5677 - accuracy: 0.7972\n",
            "313/313 [==============================] - 1s 3ms/step - loss: 0.6745 - accuracy: 0.7724\n",
            "391/391 [==============================] - 4s 10ms/step - loss: 0.5225 - accuracy: 0.8139\n",
            "313/313 [==============================] - 1s 3ms/step - loss: 0.6777 - accuracy: 0.7727\n",
            "391/391 [==============================] - 4s 10ms/step - loss: 0.4805 - accuracy: 0.8302\n",
            "313/313 [==============================] - 1s 3ms/step - loss: 0.6652 - accuracy: 0.7826\n",
            "391/391 [==============================] - 4s 10ms/step - loss: 0.4412 - accuracy: 0.8454\n",
            "313/313 [==============================] - 1s 3ms/step - loss: 0.6539 - accuracy: 0.7856\n",
            "391/391 [==============================] - 4s 10ms/step - loss: 0.3975 - accuracy: 0.8596\n",
            "313/313 [==============================] - 1s 3ms/step - loss: 0.6370 - accuracy: 0.7945\n",
            "391/391 [==============================] - 4s 10ms/step - loss: 0.3703 - accuracy: 0.8676\n",
            "313/313 [==============================] - 1s 3ms/step - loss: 0.6343 - accuracy: 0.7973\n",
            "391/391 [==============================] - 4s 10ms/step - loss: 0.3418 - accuracy: 0.8792\n",
            "313/313 [==============================] - 1s 3ms/step - loss: 0.6462 - accuracy: 0.7981\n",
            "391/391 [==============================] - 4s 10ms/step - loss: 0.3156 - accuracy: 0.8856\n",
            "313/313 [==============================] - 1s 3ms/step - loss: 0.7097 - accuracy: 0.7919\n",
            "391/391 [==============================] - 4s 10ms/step - loss: 0.2956 - accuracy: 0.8947\n",
            "313/313 [==============================] - 1s 3ms/step - loss: 0.6572 - accuracy: 0.8043\n",
            "391/391 [==============================] - 4s 10ms/step - loss: 0.2659 - accuracy: 0.9046\n",
            "313/313 [==============================] - 1s 3ms/step - loss: 0.6631 - accuracy: 0.8040\n",
            "391/391 [==============================] - 4s 10ms/step - loss: 0.2490 - accuracy: 0.9119\n",
            "313/313 [==============================] - 1s 3ms/step - loss: 0.6946 - accuracy: 0.8069\n",
            "391/391 [==============================] - 4s 10ms/step - loss: 0.2365 - accuracy: 0.9171\n",
            "313/313 [==============================] - 1s 3ms/step - loss: 0.6972 - accuracy: 0.8081\n",
            "391/391 [==============================] - 4s 10ms/step - loss: 0.2239 - accuracy: 0.9212\n",
            "313/313 [==============================] - 1s 3ms/step - loss: 0.6802 - accuracy: 0.8054\n",
            "391/391 [==============================] - 4s 10ms/step - loss: 0.2124 - accuracy: 0.9249\n",
            "313/313 [==============================] - 1s 3ms/step - loss: 0.8128 - accuracy: 0.7855\n",
            "391/391 [==============================] - 4s 10ms/step - loss: 0.2002 - accuracy: 0.9298\n",
            "313/313 [==============================] - 1s 3ms/step - loss: 0.7541 - accuracy: 0.7998\n",
            "391/391 [==============================] - 4s 10ms/step - loss: 0.1854 - accuracy: 0.9334\n",
            "313/313 [==============================] - 1s 3ms/step - loss: 0.7212 - accuracy: 0.8069\n",
            "391/391 [==============================] - 4s 10ms/step - loss: 0.1760 - accuracy: 0.9379\n",
            "313/313 [==============================] - 1s 3ms/step - loss: 0.7692 - accuracy: 0.8048\n",
            "391/391 [==============================] - 4s 10ms/step - loss: 0.1783 - accuracy: 0.9373\n",
            "313/313 [==============================] - 1s 3ms/step - loss: 0.7832 - accuracy: 0.7968\n",
            "196/196 [==============================] - 3s 11ms/step - loss: 0.5022 - accuracy: 0.8511\n",
            "313/313 [==============================] - 1s 3ms/step - loss: 7.3080 - accuracy: 0.1000\n",
            "196/196 [==============================] - 2s 10ms/step - loss: 0.3362 - accuracy: 0.8895\n",
            "313/313 [==============================] - 1s 3ms/step - loss: 17.5861 - accuracy: 0.1000\n",
            "196/196 [==============================] - 2s 10ms/step - loss: 0.2720 - accuracy: 0.9058\n",
            "313/313 [==============================] - 1s 3ms/step - loss: 12.5341 - accuracy: 0.1000\n",
            "196/196 [==============================] - 2s 10ms/step - loss: 0.2349 - accuracy: 0.9214\n",
            "313/313 [==============================] - 1s 3ms/step - loss: 13.2302 - accuracy: 0.1000\n",
            "196/196 [==============================] - 2s 10ms/step - loss: 0.1936 - accuracy: 0.9321\n",
            "313/313 [==============================] - 1s 3ms/step - loss: 6.7069 - accuracy: 0.1000\n",
            "196/196 [==============================] - 2s 10ms/step - loss: 0.1808 - accuracy: 0.9370\n",
            "313/313 [==============================] - 1s 3ms/step - loss: 10.1001 - accuracy: 0.1000\n",
            "196/196 [==============================] - 2s 10ms/step - loss: 0.1661 - accuracy: 0.9426\n",
            "313/313 [==============================] - 1s 3ms/step - loss: 12.1577 - accuracy: 0.1003\n",
            "196/196 [==============================] - 2s 10ms/step - loss: 0.1395 - accuracy: 0.9514\n",
            "313/313 [==============================] - 1s 3ms/step - loss: 8.7284 - accuracy: 0.1000\n",
            "196/196 [==============================] - 2s 10ms/step - loss: 0.1388 - accuracy: 0.9513\n",
            "313/313 [==============================] - 1s 3ms/step - loss: 10.5165 - accuracy: 0.1000\n",
            "131/131 [==============================] - 2s 11ms/step - loss: 0.4681 - accuracy: 0.8642\n",
            "313/313 [==============================] - 1s 3ms/step - loss: 9.1279 - accuracy: 0.1000\n",
            "131/131 [==============================] - 1s 10ms/step - loss: 0.3017 - accuracy: 0.8988\n",
            "313/313 [==============================] - 1s 3ms/step - loss: 7.5520 - accuracy: 0.1000\n",
            "131/131 [==============================] - 1s 10ms/step - loss: 0.2368 - accuracy: 0.9208\n",
            "313/313 [==============================] - 1s 3ms/step - loss: 6.3259 - accuracy: 0.1000\n",
            "131/131 [==============================] - 1s 10ms/step - loss: 0.1977 - accuracy: 0.9304\n",
            "313/313 [==============================] - 1s 3ms/step - loss: 13.9823 - accuracy: 0.1000\n",
            "131/131 [==============================] - 1s 10ms/step - loss: 0.1638 - accuracy: 0.9425\n",
            "313/313 [==============================] - 1s 3ms/step - loss: 12.4635 - accuracy: 0.1000\n",
            "131/131 [==============================] - 1s 10ms/step - loss: 0.1445 - accuracy: 0.9485\n",
            "313/313 [==============================] - 1s 3ms/step - loss: 8.0696 - accuracy: 0.1000\n",
            "131/131 [==============================] - 1s 10ms/step - loss: 0.1312 - accuracy: 0.9540\n",
            "313/313 [==============================] - 1s 3ms/step - loss: 8.5792 - accuracy: 0.1000\n",
            "131/131 [==============================] - 1s 10ms/step - loss: 0.1231 - accuracy: 0.9566\n",
            "313/313 [==============================] - 1s 3ms/step - loss: 8.2467 - accuracy: 0.1000\n",
            "131/131 [==============================] - 1s 10ms/step - loss: 0.1192 - accuracy: 0.9587\n",
            "313/313 [==============================] - 1s 3ms/step - loss: 10.1308 - accuracy: 0.1000\n",
            "131/131 [==============================] - 1s 10ms/step - loss: 0.0979 - accuracy: 0.9672\n",
            "313/313 [==============================] - 1s 3ms/step - loss: 10.1639 - accuracy: 0.1000\n",
            "131/131 [==============================] - 1s 10ms/step - loss: 0.0986 - accuracy: 0.9663\n",
            "313/313 [==============================] - 1s 3ms/step - loss: 7.9295 - accuracy: 0.1000\n",
            "98/98 [==============================] - 2s 12ms/step - loss: 0.5579 - accuracy: 0.8558\n",
            "313/313 [==============================] - 1s 3ms/step - loss: 7.2824 - accuracy: 0.1000\n",
            "98/98 [==============================] - 1s 10ms/step - loss: 0.3082 - accuracy: 0.8984\n",
            "313/313 [==============================] - 1s 3ms/step - loss: 8.6230 - accuracy: 0.1000\n",
            "98/98 [==============================] - 1s 10ms/step - loss: 0.2295 - accuracy: 0.9222\n",
            "313/313 [==============================] - 1s 3ms/step - loss: 6.4574 - accuracy: 0.1000\n",
            "98/98 [==============================] - 1s 10ms/step - loss: 0.1612 - accuracy: 0.9456\n",
            "313/313 [==============================] - 1s 3ms/step - loss: 7.6494 - accuracy: 0.1000\n",
            "98/98 [==============================] - 1s 10ms/step - loss: 0.1518 - accuracy: 0.9486\n",
            "313/313 [==============================] - 1s 3ms/step - loss: 7.8008 - accuracy: 0.1000\n",
            "98/98 [==============================] - 1s 10ms/step - loss: 0.1270 - accuracy: 0.9555\n",
            "313/313 [==============================] - 1s 3ms/step - loss: 7.5196 - accuracy: 0.1000\n",
            "98/98 [==============================] - 1s 10ms/step - loss: 0.1253 - accuracy: 0.9554\n",
            "313/313 [==============================] - 1s 3ms/step - loss: 7.2280 - accuracy: 0.1000\n",
            "79/79 [==============================] - 2s 12ms/step - loss: 0.5273 - accuracy: 0.8614\n",
            "313/313 [==============================] - 1s 3ms/step - loss: 4.0104 - accuracy: 0.1000\n",
            "79/79 [==============================] - 1s 10ms/step - loss: 0.2964 - accuracy: 0.8962\n",
            "313/313 [==============================] - 1s 3ms/step - loss: 7.4303 - accuracy: 0.1000\n",
            "79/79 [==============================] - 1s 10ms/step - loss: 0.2279 - accuracy: 0.9270\n",
            "313/313 [==============================] - 1s 3ms/step - loss: 5.8033 - accuracy: 0.1000\n",
            "79/79 [==============================] - 1s 10ms/step - loss: 0.1888 - accuracy: 0.9370\n",
            "313/313 [==============================] - 1s 3ms/step - loss: 6.1515 - accuracy: 0.1000\n",
            "79/79 [==============================] - 1s 10ms/step - loss: 0.1443 - accuracy: 0.9484\n",
            "313/313 [==============================] - 1s 3ms/step - loss: 6.9778 - accuracy: 0.1000\n",
            "79/79 [==============================] - 1s 10ms/step - loss: 0.1193 - accuracy: 0.9594\n",
            "313/313 [==============================] - 1s 3ms/step - loss: 6.9708 - accuracy: 0.1000\n",
            "79/79 [==============================] - 1s 10ms/step - loss: 0.1107 - accuracy: 0.9648\n",
            "313/313 [==============================] - 1s 3ms/step - loss: 6.0565 - accuracy: 0.1000\n",
            "79/79 [==============================] - 1s 10ms/step - loss: 0.1042 - accuracy: 0.9648\n",
            "313/313 [==============================] - 1s 3ms/step - loss: 5.2449 - accuracy: 0.1000\n",
            "66/66 [==============================] - 2s 12ms/step - loss: 0.5018 - accuracy: 0.8585\n",
            "313/313 [==============================] - 1s 3ms/step - loss: 4.0788 - accuracy: 0.1000\n",
            "66/66 [==============================] - 1s 10ms/step - loss: 0.2777 - accuracy: 0.9102\n",
            "313/313 [==============================] - 1s 3ms/step - loss: 6.2314 - accuracy: 0.1000\n",
            "66/66 [==============================] - 1s 10ms/step - loss: 0.1945 - accuracy: 0.9345\n",
            "313/313 [==============================] - 1s 3ms/step - loss: 6.3696 - accuracy: 0.1000\n",
            "66/66 [==============================] - 1s 10ms/step - loss: 0.1637 - accuracy: 0.9436\n",
            "313/313 [==============================] - 1s 3ms/step - loss: 8.1728 - accuracy: 0.1000\n",
            "66/66 [==============================] - 1s 10ms/step - loss: 0.1149 - accuracy: 0.9604\n",
            "313/313 [==============================] - 1s 3ms/step - loss: 8.6715 - accuracy: 0.1000\n",
            "66/66 [==============================] - 1s 11ms/step - loss: 0.0979 - accuracy: 0.9657\n",
            "313/313 [==============================] - 1s 3ms/step - loss: 9.1248 - accuracy: 0.1000\n",
            "66/66 [==============================] - 1s 10ms/step - loss: 0.0921 - accuracy: 0.9671\n",
            "313/313 [==============================] - 1s 3ms/step - loss: 10.7752 - accuracy: 0.1000\n",
            "56/56 [==============================] - 2s 14ms/step - loss: 0.4840 - accuracy: 0.8627\n",
            "313/313 [==============================] - 1s 3ms/step - loss: 5.6183 - accuracy: 0.1000\n",
            "56/56 [==============================] - 1s 10ms/step - loss: 0.2659 - accuracy: 0.9109\n",
            "313/313 [==============================] - 1s 3ms/step - loss: 9.3668 - accuracy: 0.1000\n",
            "56/56 [==============================] - 1s 10ms/step - loss: 0.1872 - accuracy: 0.9348\n",
            "313/313 [==============================] - 1s 3ms/step - loss: 11.5720 - accuracy: 0.1000\n",
            "56/56 [==============================] - 1s 10ms/step - loss: 0.1386 - accuracy: 0.9555\n",
            "313/313 [==============================] - 1s 3ms/step - loss: 9.8188 - accuracy: 0.1000\n",
            "56/56 [==============================] - 1s 10ms/step - loss: 0.1206 - accuracy: 0.9633\n",
            "313/313 [==============================] - 1s 3ms/step - loss: 9.6509 - accuracy: 0.1000\n",
            "56/56 [==============================] - 1s 10ms/step - loss: 0.1097 - accuracy: 0.9608\n",
            "313/313 [==============================] - 1s 3ms/step - loss: 8.8858 - accuracy: 0.1000\n",
            "49/49 [==============================] - 2s 15ms/step - loss: 0.4536 - accuracy: 0.8735\n",
            "313/313 [==============================] - 1s 3ms/step - loss: 11.6861 - accuracy: 0.1000\n",
            "49/49 [==============================] - 1s 10ms/step - loss: 0.2648 - accuracy: 0.9136\n",
            "313/313 [==============================] - 1s 3ms/step - loss: 7.4588 - accuracy: 0.1000\n",
            "49/49 [==============================] - 0s 10ms/step - loss: 0.1838 - accuracy: 0.9354\n",
            "313/313 [==============================] - 1s 3ms/step - loss: 9.1173 - accuracy: 0.1000\n",
            "49/49 [==============================] - 1s 10ms/step - loss: 0.1341 - accuracy: 0.9485\n",
            "313/313 [==============================] - 1s 3ms/step - loss: 11.4360 - accuracy: 0.1000\n",
            "49/49 [==============================] - 0s 10ms/step - loss: 0.1039 - accuracy: 0.9667\n",
            "313/313 [==============================] - 1s 3ms/step - loss: 12.8140 - accuracy: 0.1000\n",
            "49/49 [==============================] - 0s 10ms/step - loss: 0.0955 - accuracy: 0.9648\n",
            "313/313 [==============================] - 1s 3ms/step - loss: 11.0731 - accuracy: 0.1000\n",
            "44/44 [==============================] - 1s 15ms/step - loss: 0.4947 - accuracy: 0.8657\n",
            "313/313 [==============================] - 1s 3ms/step - loss: 10.2932 - accuracy: 0.1000\n",
            "44/44 [==============================] - 0s 11ms/step - loss: 0.2791 - accuracy: 0.9049\n",
            "313/313 [==============================] - 1s 3ms/step - loss: 11.5749 - accuracy: 0.1000\n",
            "44/44 [==============================] - 0s 10ms/step - loss: 0.1946 - accuracy: 0.9280\n",
            "313/313 [==============================] - 1s 3ms/step - loss: 10.9676 - accuracy: 0.1000\n",
            "44/44 [==============================] - 0s 10ms/step - loss: 0.1479 - accuracy: 0.9521\n",
            "313/313 [==============================] - 1s 3ms/step - loss: 11.1257 - accuracy: 0.1000\n",
            "44/44 [==============================] - 0s 10ms/step - loss: 0.1109 - accuracy: 0.9597\n",
            "313/313 [==============================] - 1s 3ms/step - loss: 13.4690 - accuracy: 0.1000\n",
            "44/44 [==============================] - 0s 10ms/step - loss: 0.0917 - accuracy: 0.9716\n",
            "313/313 [==============================] - 1s 3ms/step - loss: 14.0372 - accuracy: 0.1000\n",
            "44/44 [==============================] - 0s 10ms/step - loss: 0.0756 - accuracy: 0.9716\n",
            "313/313 [==============================] - 1s 3ms/step - loss: 16.6023 - accuracy: 0.1000\n",
            "40/40 [==============================] - 1s 14ms/step - loss: 0.5116 - accuracy: 0.8659\n",
            "313/313 [==============================] - 1s 3ms/step - loss: 10.8019 - accuracy: 0.1000\n",
            "40/40 [==============================] - 0s 10ms/step - loss: 0.2585 - accuracy: 0.9152\n",
            "313/313 [==============================] - 1s 3ms/step - loss: 11.7080 - accuracy: 0.1000\n",
            "40/40 [==============================] - 0s 10ms/step - loss: 0.2207 - accuracy: 0.9264\n",
            "313/313 [==============================] - 1s 3ms/step - loss: 13.7229 - accuracy: 0.1000\n",
            "40/40 [==============================] - 0s 10ms/step - loss: 0.1843 - accuracy: 0.9352\n",
            "313/313 [==============================] - 1s 3ms/step - loss: 8.7827 - accuracy: 0.1000\n",
            "40/40 [==============================] - 0s 10ms/step - loss: 0.1451 - accuracy: 0.9444\n",
            "313/313 [==============================] - 1s 3ms/step - loss: 11.3446 - accuracy: 0.1000\n",
            "40/40 [==============================] - 0s 11ms/step - loss: 0.1089 - accuracy: 0.9604\n",
            "313/313 [==============================] - 1s 3ms/step - loss: 9.5494 - accuracy: 0.1000\n",
            "40/40 [==============================] - 0s 10ms/step - loss: 0.0788 - accuracy: 0.9712\n",
            "313/313 [==============================] - 1s 3ms/step - loss: 8.9538 - accuracy: 0.1000\n",
            "40/40 [==============================] - 0s 10ms/step - loss: 0.1129 - accuracy: 0.9624\n",
            "313/313 [==============================] - 1s 3ms/step - loss: 10.8112 - accuracy: 0.1000\n"
          ],
          "name": "stdout"
        }
      ]
    },
    {
      "cell_type": "code",
      "metadata": {
        "id": "txFkfrFHgMZ-"
      },
      "source": [
        "import matplotlib.pyplot as plt"
      ],
      "execution_count": 11,
      "outputs": []
    },
    {
      "cell_type": "code",
      "metadata": {
        "id": "fikbq0tQgMZ_",
        "colab": {
          "base_uri": "https://localhost:8080/",
          "height": 513
        },
        "outputId": "f953f82c-f6e2-46a0-972a-7b99687b5a59"
      },
      "source": [
        "for y in train_set_errors:\n",
        "  plt.plot(y)\n",
        "plt.figure()\n",
        "for y in test_set_errors:\n",
        "  plt.plot(y)"
      ],
      "execution_count": 20,
      "outputs": [
        {
          "output_type": "display_data",
          "data": {
            "image/png": "[encoded data removed]",
            "text/plain": [
              "<Figure size 432x288 with 1 Axes>"
            ]
          },
          "metadata": {
            "tags": [],
            "needs_background": "light"
          }
        },
        {
          "output_type": "display_data",
          "data": {
            "image/png": "[encoded data removed]",
            "text/plain": [
              "<Figure size 432x288 with 1 Axes>"
            ]
          },
          "metadata": {
            "tags": [],
            "needs_background": "light"
          }
        }
      ]
    },
    {
      "cell_type": "code",
      "metadata": {
        "id": "YdSDzZwxGiYF"
      },
      "source": [
        ""
      ],
      "execution_count": null,
      "outputs": []
    }
  ]
}