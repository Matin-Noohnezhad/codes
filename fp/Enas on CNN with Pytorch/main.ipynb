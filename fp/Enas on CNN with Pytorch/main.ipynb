{
 "cells": [
  {
   "cell_type": "code",
   "execution_count": 1,
   "metadata": {},
   "outputs": [],
   "source": [
    "import torch\n",
    "\n",
    "from childnet import ChildNetwork\n",
    "from cifar10_training import Cifar10Trainer\n",
    "import controller_training\n",
    "from controller import ControllerNetwork\n",
    "from utils import layer_sampler, connection_sampler, exponential_moving_average"
   ]
  },
  {
   "cell_type": "code",
   "execution_count": 2,
   "outputs": [],
   "source": [
    "outer_iterations = 310 #310\n",
    "controller_iterations = 5  #2000\n",
    "child_iterations = 2 #2\n",
    "##\n",
    "hidden_size = 100\n",
    "num_layer_types = 4\n",
    "num_layers = 6\n",
    "num_filters = 32\n",
    "num_classes = 10  # cifar-10 dataset\n",
    "grad_clip_value = 0.15\n",
    "##\n",
    "val_accuracy_list = []\n",
    "\n",
    "\n",
    "train_time_list = []"
   ],
   "metadata": {
    "collapsed": false,
    "pycharm": {
     "name": "#%%\n"
    }
   }
  },
  {
   "cell_type": "code",
   "execution_count": 3,
   "metadata": {},
   "outputs": [
    {
     "name": "stdout",
     "output_type": "stream",
     "text": [
      "what is the device? cpu or gpu ?  cuda\n",
      "Files already downloaded and verified\n",
      "Files already downloaded and verified\n"
     ]
    }
   ],
   "source": [
    "\n",
    "cifar10_trainer = Cifar10Trainer(batch_size=128)"
   ]
  },
  {
   "cell_type": "code",
   "execution_count": null,
   "metadata": {},
   "outputs": [
    {
     "name": "stdout",
     "output_type": "stream",
     "text": [
      "ITERATION NUMBER 1\n",
      "Controller is sampling architecture...\n",
      "tensor([[[0.2533, 0.2556, 0.2491, 0.2421]],\n",
      "\n",
      "        [[0.2523, 0.2553, 0.2495, 0.2429]],\n",
      "\n",
      "        [[0.2518, 0.2547, 0.2499, 0.2436]],\n",
      "\n",
      "        [[0.2528, 0.2601, 0.2447, 0.2425]],\n",
      "\n",
      "        [[0.2524, 0.2630, 0.2425, 0.2421]],\n",
      "\n",
      "        [[0.2526, 0.2678, 0.2386, 0.2410]],\n",
      "\n",
      "        [[0.2520, 0.2706, 0.2370, 0.2405]],\n",
      "\n",
      "        [[0.2518, 0.2744, 0.2342, 0.2396]],\n",
      "\n",
      "        [[0.2511, 0.2767, 0.2331, 0.2390]],\n",
      "\n",
      "        [[0.2509, 0.2797, 0.2312, 0.2383]],\n",
      "\n",
      "        [[0.2503, 0.2815, 0.2304, 0.2378]],\n",
      "\n",
      "        [[0.2501, 0.2839, 0.2289, 0.2371]]], grad_fn=<CatBackward>)\n",
      "Creating new child network...\n",
      "Training child network...\n"
     ]
    }
   ],
   "source": [
    "controller = ControllerNetwork(hidden_size, num_layers, num_layer_types)\n",
    "load_previous_network_weights = None\n",
    "#\n",
    "for i in range(outer_iterations):\n",
    "    print(\"ITERATION NUMBER %d\" % (i+1))\n",
    "    ############## sample model ##############\n",
    "    print('Controller is sampling architecture...')\n",
    "    soft_1, soft_2 = controller()\n",
    "    #\n",
    "    print(soft_1)\n",
    "    layers_types = layer_sampler(soft_1)\n",
    "    # print(layers_types.shape)\n",
    "    # take log after sampling (we couldn't do it before sampling)\n",
    "    soft_1 = torch.log(soft_1)\n",
    "    #\n",
    "    skip_connections = connection_sampler(soft_2)\n",
    "    ############## initialize weights ##############\n",
    "    print('Creating new child network...')\n",
    "    if i == 0:\n",
    "        load_previous_network_weights = False\n",
    "    child_net = ChildNetwork(layers_types, skip_connections, load_previous_network_weights,\n",
    "                             num_hidden_layers=num_layers,\n",
    "                             num_filters=num_filters, num_classes=num_classes)\n",
    "    load_previous_network_weights = True\n",
    "\n",
    "    ############## train model ##############\n",
    "    print('Training child network...')\n",
    "    # if(i > 0):\n",
    "    #     child_net.load_state_dict(torch.load('weights.pth'))\n",
    "    val_accuracy, new_train_time_list = cifar10_trainer.train(child_net, no_epoch=child_iterations)\n",
    "    val_accuracy_list.append(val_accuracy)\n",
    "    train_time_list.extend(new_train_time_list)\n",
    "    ############## update weights ##############\n",
    "    print('Saving child network\\'s weights...')\n",
    "    # torch.save(child_net.state_dict(), 'weights.pth')\n",
    "\n",
    "    ############## train controller ##############\n",
    "    print('Training controller network')\n",
    "    baseline = exponential_moving_average(val_accuracy_list)\n",
    "    multiplier = val_accuracy - baseline\n",
    "    print('val_accuracy is = ', val_accuracy)\n",
    "    print('baseline is = ', baseline)\n",
    "    print('multiplier is = ', multiplier)\n",
    "    controller_training.train(controller, soft_1, soft_2, layers_types, skip_connections, multiplier, grad_clip_value=grad_clip_value, no_epoch=controller_iterations)\n",
    "    ##############################################\n",
    "    print('##############################################')\n",
    "    print('##############################################')"
   ]
  },
  {
   "cell_type": "code",
   "execution_count": null,
   "outputs": [],
   "source": [
    "import matplotlib.pyplot as plt\n",
    "\n",
    "plt.plot(val_accuracy_list)\n",
    "plt.figure()\n",
    "plt.plot(train_time_list)"
   ],
   "metadata": {
    "collapsed": false,
    "pycharm": {
     "name": "#%%\n"
    }
   }
  },
  {
   "cell_type": "code",
   "execution_count": null,
   "outputs": [],
   "source": [],
   "metadata": {
    "collapsed": false,
    "pycharm": {
     "name": "#%%\n"
    }
   }
  },
  {
   "cell_type": "code",
   "execution_count": null,
   "outputs": [],
   "source": [],
   "metadata": {
    "collapsed": false,
    "pycharm": {
     "name": "#%%\n"
    }
   }
  }
 ],
 "metadata": {
  "kernelspec": {
   "display_name": "Python 3",
   "language": "python",
   "name": "python3"
  },
  "language_info": {
   "codemirror_mode": {
    "name": "ipython",
    "version": 3
   },
   "file_extension": ".py",
   "mimetype": "text/x-python",
   "name": "python",
   "nbconvert_exporter": "python",
   "pygments_lexer": "ipython3",
   "version": "3.9.5"
  }
 },
 "nbformat": 4,
 "nbformat_minor": 4
}