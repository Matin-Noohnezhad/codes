{
 "cells": [
  {
   "cell_type": "code",
   "execution_count": 1,
   "metadata": {},
   "outputs": [],
   "source": [
    "import torch\n",
    "\n",
    "from childnet import ChildNetwork\n",
    "from cifar10_training import Cifar10Trainer\n",
    "import controller_training\n",
    "from controller import ControllerNetwork\n",
    "from utils import layer_sampler, connection_sampler, exponential_moving_average, moving_average"
   ]
  },
  {
   "cell_type": "code",
   "execution_count": 2,
   "outputs": [],
   "source": [
    "outer_iterations = 310 #310\n",
    "controller_iterations = 1  #2000\n",
    "child_iterations = 4 #2\n",
    "##\n",
    "hidden_size = 100\n",
    "num_layer_types = 4\n",
    "num_layers = 8\n",
    "num_filters = 32\n",
    "num_classes = 10  # cifar-10 dataset\n",
    "grad_clip_value = 0.15\n",
    "##\n",
    "val_accuracy_list = []\n",
    "\n",
    "\n",
    "train_time_list = []"
   ],
   "metadata": {
    "collapsed": false,
    "pycharm": {
     "name": "#%%\n"
    }
   }
  },
  {
   "cell_type": "code",
   "execution_count": 3,
   "metadata": {},
   "outputs": [
    {
     "name": "stdout",
     "output_type": "stream",
     "text": [
      "what is the device? cpu or gpu ?  cuda\n",
      "Files already downloaded and verified\n",
      "Files already downloaded and verified\n"
     ]
    }
   ],
   "source": [
    "\n",
    "cifar10_trainer = Cifar10Trainer(batch_size=128)"
   ]
  },
  {
   "cell_type": "code",
   "execution_count": null,
   "metadata": {
    "pycharm": {
     "is_executing": true
    }
   },
   "outputs": [
    {
     "name": "stdout",
     "output_type": "stream",
     "text": [
      "ITERATION NUMBER 1\n",
      "Controller is sampling architecture...\n",
      "tensor([[[0.2400, 0.2453, 0.2438, 0.2709]],\n",
      "\n",
      "        [[0.2407, 0.2444, 0.2429, 0.2720]],\n",
      "\n",
      "        [[0.2413, 0.2441, 0.2421, 0.2725]],\n",
      "\n",
      "        [[0.2453, 0.2413, 0.2398, 0.2737]],\n",
      "\n",
      "        [[0.2481, 0.2394, 0.2388, 0.2737]],\n",
      "\n",
      "        [[0.2519, 0.2369, 0.2379, 0.2734]],\n",
      "\n",
      "        [[0.2545, 0.2353, 0.2375, 0.2727]],\n",
      "\n",
      "        [[0.2574, 0.2335, 0.2372, 0.2720]],\n",
      "\n",
      "        [[0.2593, 0.2324, 0.2370, 0.2713]],\n",
      "\n",
      "        [[0.2614, 0.2311, 0.2370, 0.2706]],\n",
      "\n",
      "        [[0.2628, 0.2303, 0.2369, 0.2699]],\n",
      "\n",
      "        [[0.2643, 0.2294, 0.2370, 0.2693]],\n",
      "\n",
      "        [[0.2654, 0.2288, 0.2370, 0.2688]],\n",
      "\n",
      "        [[0.2665, 0.2281, 0.2371, 0.2683]],\n",
      "\n",
      "        [[0.2674, 0.2277, 0.2372, 0.2678]],\n",
      "\n",
      "        [[0.2683, 0.2271, 0.2373, 0.2673]]], grad_fn=<CatBackward>)\n",
      "tensor([[[0., 0., 0., 1.]],\n",
      "\n",
      "        [[0., 0., 0., 0.]],\n",
      "\n",
      "        [[0., 0., 1., 0.]],\n",
      "\n",
      "        [[0., 0., 0., 0.]],\n",
      "\n",
      "        [[0., 1., 0., 0.]],\n",
      "\n",
      "        [[0., 0., 0., 0.]],\n",
      "\n",
      "        [[0., 0., 0., 1.]],\n",
      "\n",
      "        [[0., 0., 0., 0.]],\n",
      "\n",
      "        [[1., 0., 0., 0.]],\n",
      "\n",
      "        [[0., 0., 0., 0.]],\n",
      "\n",
      "        [[0., 0., 0., 1.]],\n",
      "\n",
      "        [[0., 0., 0., 0.]],\n",
      "\n",
      "        [[0., 1., 0., 0.]],\n",
      "\n",
      "        [[0., 0., 0., 0.]],\n",
      "\n",
      "        [[0., 0., 0., 1.]],\n",
      "\n",
      "        [[0., 0., 0., 0.]]])\n",
      "Creating new child network...\n",
      "Training child network...\n"
     ]
    }
   ],
   "source": [
    "controller = ControllerNetwork(hidden_size, num_layers, num_layer_types)\n",
    "load_previous_network_weights = None\n",
    "#\n",
    "for i in range(outer_iterations):\n",
    "    print(\"ITERATION NUMBER %d\" % (i+1))\n",
    "    ############## sample model ##############\n",
    "    print('Controller is sampling architecture...')\n",
    "    soft_1, soft_2 = controller()\n",
    "    #\n",
    "    print(soft_1)\n",
    "    layers_types = layer_sampler(soft_1)\n",
    "    print(layers_types)\n",
    "    # print(layers_types.shape)\n",
    "    # take log after sampling (we couldn't do it before sampling)\n",
    "    soft_1 = torch.log(soft_1)\n",
    "    #\n",
    "    skip_connections = connection_sampler(soft_2)\n",
    "    ############## initialize weights ##############\n",
    "    print('Creating new child network...')\n",
    "    if i == 0:\n",
    "        load_previous_network_weights = False\n",
    "    child_net = ChildNetwork(layers_types, skip_connections, load_previous_network_weights,\n",
    "                             num_hidden_layers=num_layers,\n",
    "                             num_filters=num_filters, num_classes=num_classes)\n",
    "    load_previous_network_weights = True\n",
    "\n",
    "    ############## train model ##############\n",
    "    print('Training child network...')\n",
    "    # if(i > 0):\n",
    "    #     child_net.load_state_dict(torch.load('weights.pth'))\n",
    "    val_accuracy, new_train_time_list = cifar10_trainer.train(child_net, no_epoch=child_iterations)\n",
    "    val_accuracy_list.append(val_accuracy)\n",
    "    train_time_list.extend(new_train_time_list)\n",
    "    ############## update weights ##############\n",
    "    print('Saving child network\\'s weights...')\n",
    "    # torch.save(child_net.state_dict(), 'weights.pth')\n",
    "\n",
    "    ############## train controller ##############\n",
    "    print('Training controller network')\n",
    "    baseline = moving_average(val_accuracy_list)\n",
    "    multiplier = val_accuracy - baseline # (reward - baseline)\n",
    "    print('val_accuracy is = ', val_accuracy)\n",
    "    print('baseline is = ', baseline)\n",
    "    print('multiplier is = ', multiplier)\n",
    "    controller_training.train(controller, soft_1, soft_2, layers_types, skip_connections, multiplier, grad_clip_value=grad_clip_value, no_epoch=controller_iterations)\n",
    "    ##############################################\n",
    "    print('##############################################')\n",
    "    print('##############################################')"
   ]
  },
  {
   "cell_type": "code",
   "execution_count": null,
   "outputs": [],
   "source": [
    "import matplotlib.pyplot as plt\n",
    "\n",
    "plt.plot(val_accuracy_list)\n",
    "plt.figure()\n",
    "plt.plot(train_time_list)"
   ],
   "metadata": {
    "collapsed": false,
    "pycharm": {
     "name": "#%%\n",
     "is_executing": true
    }
   }
  },
  {
   "cell_type": "code",
   "execution_count": null,
   "outputs": [],
   "source": [],
   "metadata": {
    "collapsed": false,
    "pycharm": {
     "name": "#%%\n",
     "is_executing": true
    }
   }
  },
  {
   "cell_type": "code",
   "execution_count": null,
   "outputs": [],
   "source": [],
   "metadata": {
    "collapsed": false,
    "pycharm": {
     "name": "#%%\n",
     "is_executing": true
    }
   }
  }
 ],
 "metadata": {
  "kernelspec": {
   "display_name": "Python 3",
   "language": "python",
   "name": "python3"
  },
  "language_info": {
   "codemirror_mode": {
    "name": "ipython",
    "version": 3
   },
   "file_extension": ".py",
   "mimetype": "text/x-python",
   "name": "python",
   "nbconvert_exporter": "python",
   "pygments_lexer": "ipython3",
   "version": "3.9.5"
  }
 },
 "nbformat": 4,
 "nbformat_minor": 4
}